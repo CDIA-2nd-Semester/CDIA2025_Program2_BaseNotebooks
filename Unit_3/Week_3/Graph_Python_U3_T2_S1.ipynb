{
 "cells": [
  {
   "cell_type": "code",
   "execution_count": null,
   "id": "87703a70",
   "metadata": {},
   "outputs": [],
   "source": [
    "import matplotlib.pyplot as plt\n",
    "import numpy as np"
   ]
  },
  {
   "cell_type": "code",
   "execution_count": null,
   "id": "68dfc5aa",
   "metadata": {},
   "outputs": [],
   "source": [
    "x = np.linspace(0, 10, 100)\n",
    "y = np.sin(x)\n",
    "plt.plot(x, y)\n",
    "plt.title('Ejemplo de Lineplot con Matplotlib')\n",
    "plt.xlabel('Eje X')\n",
    "plt.ylabel('Eje Y')\n",
    "plt.show()"
   ]
  },
  {
   "cell_type": "code",
   "execution_count": null,
   "id": "941ef5ed",
   "metadata": {},
   "outputs": [],
   "source": [
    "categorias = ['A', 'B', 'C']\n",
    "valores = [5, 3, 9]\n",
    "plt.bar(categorias, valores)\n",
    "plt.title('Ejemplo de Barplot con Matplotlib')\n",
    "plt.show()"
   ]
  },
  {
   "cell_type": "code",
   "execution_count": null,
   "id": "653e537e",
   "metadata": {},
   "outputs": [],
   "source": [
    "x = np.random.randn(100)\n",
    "y = np.random.randn(100)\n",
    "plt.scatter(x, y)\n",
    "plt.title('Ejemplo de Scatterplot con Matplotlib')\n",
    "plt.xlabel('Variable X')\n",
    "plt.ylabel('Variable Y')\n",
    "plt.show()"
   ]
  },
  {
   "cell_type": "code",
   "execution_count": null,
   "id": "5129dd02",
   "metadata": {},
   "outputs": [],
   "source": [
    "import seaborn as sns\n",
    "import numpy as np\n",
    "import pandas as pd\n",
    "\n",
    "df = pd.DataFrame({\n",
    "    \"x\": np.linspace(0, 10, 100),\n",
    "    \"y\": np.sin(np.linspace(0, 10, 100))\n",
    "})\n",
    "\n",
    "sns.lineplot(data=df, x=\"x\", y=\"y\")\n",
    "plt.title('Lineplot con Seaborn')\n",
    "plt.show()\n"
   ]
  },
  {
   "cell_type": "markdown",
   "id": "c2a0fbe3",
   "metadata": {},
   "source": [
    "### 📈 Ejemplo 1: px.line – Serie temporal (Esperanza de vida por país)\n",
    "Usa el dataset gapminder, que viene con Plotly:"
   ]
  },
  {
   "cell_type": "code",
   "execution_count": null,
   "id": "9a4bd869",
   "metadata": {},
   "outputs": [],
   "source": [
    "import plotly.express as px\n",
    "\n",
    "# Dataset: esperanza de vida de países de Oceanía (Australia y Nueva Zelanda)\n",
    "df = px.data.gapminder().query(\"continent == 'Oceania'\")\n",
    "\n",
    "fig = px.line(\n",
    "    df,\n",
    "    x=\"year\",\n",
    "    y=\"lifeExp\",\n",
    "    color=\"country\",\n",
    "    markers=True,\n",
    "    title=\"Esperanza de vida en Oceanía (1952-2007)\"\n",
    ")\n",
    "fig.show()"
   ]
  },
  {
   "cell_type": "markdown",
   "id": "28ed53c9",
   "metadata": {},
   "source": [
    "Interactividad: Puedes mover el mouse y ver valores en cada punto."
   ]
  },
  {
   "cell_type": "markdown",
   "id": "8d3e2f16",
   "metadata": {},
   "source": [
    "### 📊 Ejemplo 2: px.bar – Barras agrupadas (Población por continente en 2007)"
   ]
  },
  {
   "cell_type": "code",
   "execution_count": null,
   "id": "2599dc46",
   "metadata": {},
   "outputs": [],
   "source": [
    "# Dataset: población total por continente en 2007\n",
    "df = px.data.gapminder().query(\"year == 2007\")\n",
    "df_grouped = df.groupby('continent', as_index=False)['pop'].sum()\n",
    "\n",
    "fig = px.bar(\n",
    "    df_grouped,\n",
    "    x=\"continent\",\n",
    "    y=\"pop\",\n",
    "    text_auto=True,\n",
    "    title=\"Población por continente en 2007\"\n",
    ")\n",
    "fig.show()"
   ]
  },
  {
   "cell_type": "markdown",
   "id": "42e24a81",
   "metadata": {},
   "source": [
    "Interactividad: Puedes ver los valores de cada barra al pasar el mouse."
   ]
  },
  {
   "cell_type": "markdown",
   "id": "a7179f8f",
   "metadata": {},
   "source": [
    "### 🔍 Ejemplo 3: px.scatter – Dispersión con varias variables (Gapminder 2007)"
   ]
  },
  {
   "cell_type": "code",
   "execution_count": null,
   "id": "7d618993",
   "metadata": {},
   "outputs": [],
   "source": [
    "# Dataset: relación entre PIB per cápita y esperanza de vida, coloreado por continente y con tamaño por población\n",
    "df = px.data.gapminder().query(\"year == 2007\")\n",
    "\n",
    "fig = px.scatter(\n",
    "    df,\n",
    "    x=\"gdpPercap\",\n",
    "    y=\"lifeExp\",\n",
    "    size=\"pop\",\n",
    "    color=\"continent\",\n",
    "    hover_name=\"country\",\n",
    "    log_x=True,\n",
    "    size_max=60,\n",
    "    title=\"Esperanza de vida vs. PIB per cápita (2007)\"\n",
    ")\n",
    "fig.show()"
   ]
  },
  {
   "cell_type": "markdown",
   "id": "665e285a",
   "metadata": {},
   "source": [
    "### px.bar con animación (población por continente a lo largo del tiempo)"
   ]
  },
  {
   "cell_type": "code",
   "execution_count": null,
   "id": "20a9cd11",
   "metadata": {},
   "outputs": [],
   "source": [
    "\n",
    "\n",
    "df = px.data.gapminder()\n",
    "df_grouped = df.groupby(['year', 'continent'], as_index=False)['pop'].sum()\n",
    "\n",
    "fig = px.bar(\n",
    "    df_grouped,\n",
    "    x=\"continent\",\n",
    "    y=\"pop\",\n",
    "    animation_frame=\"year\",\n",
    "    range_y=[0, df_grouped[\"pop\"].max()],\n",
    "    title=\"Evolución de la población por continente (1952-2007)\"\n",
    ")\n",
    "fig.show()\n"
   ]
  }
 ],
 "metadata": {
  "kernelspec": {
   "display_name": "Progra_2",
   "language": "python",
   "name": "python3"
  },
  "language_info": {
   "codemirror_mode": {
    "name": "ipython",
    "version": 3
   },
   "file_extension": ".py",
   "mimetype": "text/x-python",
   "name": "python",
   "nbconvert_exporter": "python",
   "pygments_lexer": "ipython3",
   "version": "3.12.11"
  }
 },
 "nbformat": 4,
 "nbformat_minor": 5
}
