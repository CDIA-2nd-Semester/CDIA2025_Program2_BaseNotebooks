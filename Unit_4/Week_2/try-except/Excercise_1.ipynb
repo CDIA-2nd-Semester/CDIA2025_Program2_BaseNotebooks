{
 "cells": [
  {
   "cell_type": "markdown",
   "id": "c2949ef1",
   "metadata": {},
   "source": [
    "### Division for 0"
   ]
  },
  {
   "cell_type": "code",
   "execution_count": 1,
   "id": "ca0ab8c7",
   "metadata": {},
   "outputs": [
    {
     "ename": "ZeroDivisionError",
     "evalue": "division by zero",
     "output_type": "error",
     "traceback": [
      "\u001b[1;31m---------------------------------------------------------------------------\u001b[0m",
      "\u001b[1;31mZeroDivisionError\u001b[0m                         Traceback (most recent call last)",
      "Cell \u001b[1;32mIn[1], line 1\u001b[0m\n\u001b[1;32m----> 1\u001b[0m x\u001b[38;5;241m=\u001b[39m\u001b[38;5;241;43m10\u001b[39;49m\u001b[38;5;241;43m/\u001b[39;49m\u001b[38;5;241;43m0\u001b[39;49m\n",
      "\u001b[1;31mZeroDivisionError\u001b[0m: division by zero"
     ]
    }
   ],
   "source": [
    "x=10/0"
   ]
  },
  {
   "cell_type": "code",
   "execution_count": 3,
   "id": "5ce9525c",
   "metadata": {},
   "outputs": [
    {
     "name": "stdout",
     "output_type": "stream",
     "text": [
      "Error zero division is not possible division by zero\n"
     ]
    }
   ],
   "source": [
    "try:\n",
    "    x = 10 / 0\n",
    "except Exception as e:\n",
    "    print(\"Error zero division is not possible\", e)"
   ]
  },
  {
   "cell_type": "markdown",
   "id": "45b35557",
   "metadata": {},
   "source": [
    "### Types of exceptions"
   ]
  },
  {
   "cell_type": "code",
   "execution_count": 5,
   "id": "271cd368",
   "metadata": {},
   "outputs": [
    {
     "name": "stdout",
     "output_type": "stream",
     "text": [
      "Error: Invalid input. Please enter a valid number.\n",
      "Execution completed.\n"
     ]
    }
   ],
   "source": [
    "try:\n",
    "    num = int(input(\"Enter a number: \"))\n",
    "    inverse_num = 1 / num\n",
    "except ZeroDivisionError :\n",
    "    print(\"Error: Division by zero is not allowed.\")\n",
    "except ValueError:\n",
    "    print(\"Error: Invalid input. Please enter a valid number.\")\n",
    "except Exception as e:\n",
    "    print(\"An unexpected error occurred:\", e)\n",
    "else:\n",
    "    print(\"The inverse of\", num, \"is\", inverse_num) \n",
    "finally:\n",
    "    print(\"Execution completed.\")"
   ]
  },
  {
   "cell_type": "markdown",
   "id": "ddb8d8c2",
   "metadata": {},
   "source": [
    "### Self Exceptions"
   ]
  },
  {
   "cell_type": "markdown",
   "id": "05e4e6b5",
   "metadata": {},
   "source": [
    "Negative square root"
   ]
  },
  {
   "cell_type": "code",
   "execution_count": 8,
   "id": "11c50a46",
   "metadata": {},
   "outputs": [
    {
     "name": "stdout",
     "output_type": "stream",
     "text": [
      "The square root of 4 is 2.0\n"
     ]
    }
   ],
   "source": [
    "x=4\n",
    "\n",
    "y=(x)**(1/2)\n",
    "\n",
    "print(\"The square root of\", x, \"is\", y)"
   ]
  },
  {
   "cell_type": "code",
   "execution_count": 9,
   "id": "212bbcd1",
   "metadata": {},
   "outputs": [
    {
     "name": "stdout",
     "output_type": "stream",
     "text": [
      "The square root of -4 is (1.2246467991473532e-16+2j)\n"
     ]
    }
   ],
   "source": [
    "x=-4\n",
    "\n",
    "y=(x)**(1/2)\n",
    "\n",
    "print(\"The square root of\", x, \"is\", y)"
   ]
  },
  {
   "cell_type": "code",
   "execution_count": 11,
   "id": "858d25e7",
   "metadata": {},
   "outputs": [
    {
     "ename": "ValueError",
     "evalue": "math domain error",
     "output_type": "error",
     "traceback": [
      "\u001b[1;31m---------------------------------------------------------------------------\u001b[0m",
      "\u001b[1;31mValueError\u001b[0m                                Traceback (most recent call last)",
      "Cell \u001b[1;32mIn[11], line 3\u001b[0m\n\u001b[0;32m      1\u001b[0m \u001b[38;5;28;01mimport\u001b[39;00m \u001b[38;5;21;01mmath\u001b[39;00m\n\u001b[1;32m----> 3\u001b[0m y\u001b[38;5;241m=\u001b[39m\u001b[43mmath\u001b[49m\u001b[38;5;241;43m.\u001b[39;49m\u001b[43msqrt\u001b[49m\u001b[43m(\u001b[49m\u001b[43mx\u001b[49m\u001b[43m)\u001b[49m\n",
      "\u001b[1;31mValueError\u001b[0m: math domain error"
     ]
    }
   ],
   "source": [
    "import math\n",
    "\n",
    "y=math.sqrt(x)"
   ]
  },
  {
   "cell_type": "code",
   "execution_count": null,
   "id": "a68b520e",
   "metadata": {},
   "outputs": [],
   "source": [
    "class NegativeSquareRootError(Exception): \n",
    "    pass  \n",
    "\n",
    "def calculate_square_root(x):\n",
    "        if x < 0:\n",
    "            raise NegativeSquareRootError(\"Cannot calculate square root of a negative number.\")\n",
    "        else:\n",
    "            return math.sqrt(x)"
   ]
  },
  {
   "cell_type": "code",
   "execution_count": 19,
   "id": "8a524acb",
   "metadata": {},
   "outputs": [
    {
     "name": "stdout",
     "output_type": "stream",
     "text": [
      "Error: Cannot calculate square root of a negative number.\n"
     ]
    }
   ],
   "source": [
    "try:\n",
    "    x=-4    \n",
    "    result = calculate_square_root(x)\n",
    "except NegativeSquareRootError as e:\n",
    "    print(\"Error:\", e)"
   ]
  }
 ],
 "metadata": {
  "kernelspec": {
   "display_name": "Progra_2",
   "language": "python",
   "name": "python3"
  },
  "language_info": {
   "codemirror_mode": {
    "name": "ipython",
    "version": 3
   },
   "file_extension": ".py",
   "mimetype": "text/x-python",
   "name": "python",
   "nbconvert_exporter": "python",
   "pygments_lexer": "ipython3",
   "version": "3.12.11"
  }
 },
 "nbformat": 4,
 "nbformat_minor": 5
}
